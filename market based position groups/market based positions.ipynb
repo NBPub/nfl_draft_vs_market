{
 "cells": [
  {
   "cell_type": "code",
   "execution_count": null,
   "id": "973bf360-0957-49b6-97cd-5d888181f4b9",
   "metadata": {},
   "outputs": [],
   "source": [
    "import pandas as pd\n",
    "from pathlib import Path\n",
    "from time import sleep\n",
    "\n",
    "from tqdm import tqdm\n",
    "import numpy as np\n",
    "import matplotlib.pyplot as plt\n",
    "import seaborn as sns\n",
    "\n",
    "from scipy.optimize import curve_fit\n",
    "from scipy.stats import percentileofscore\n",
    "from scipy.interpolate import CubicSpline, PchipInterpolator, Akima1DInterpolator, \\\n",
    "                              make_interp_spline, CubicHermiteSpline, BSpline, splrep\n",
    "\n",
    "import statsmodels.api as sm"
   ]
  },
  {
   "cell_type": "markdown",
   "id": "f7946028-e8a4-4107-9f11-78f31641de70",
   "metadata": {
    "jp-MarkdownHeadingCollapsed": true,
    "tags": []
   },
   "source": [
    "# Contents\n",
    " - [Market Data](#Market-Data)\n",
    " - [Market Draft Joins](#Market-Draft-Joins)\n",
    "   - [Position Label Cleaning](#Position-Label-Cleaning)\n",
    " - [Tables and Graphs](#Tables-and-Graphs)\n",
    "   - [Final Table](#Final-Table)\n",
    "   - [Market Fit Graphs](#Market-Fit)\n",
    "   - [Market Explore Graphs](#Market-Explore)"
   ]
  },
  {
   "cell_type": "markdown",
   "id": "d6ab4072-2d15-4e76-b1c9-fb8bd3013bf6",
   "metadata": {
    "jp-MarkdownHeadingCollapsed": true,
    "tags": []
   },
   "source": [
    "## Market Data\n",
    " - contract history for position from OTC"
   ]
  },
  {
   "cell_type": "code",
   "execution_count": null,
   "id": "cd144856-dca4-4825-918d-3d2d4c4e4693",
   "metadata": {},
   "outputs": [],
   "source": [
    "market_data = pd.DataFrame()\n",
    "\n",
    "positions = {\n",
    "    'QB':'quarterback', 'RB':'running-back', 'WR':'wide-receiver', 'TE':'tight-end',\n",
    "    'T': ['left-tackle','right-tackle'], 'G': ['left-guard', 'right-guard'],\n",
    "    'C': 'center', 'iDL':'interior-defensive-line', 'EDGE':'edge-rusher',\n",
    "    'LB': 'linebacker', 'CB':'cornerback', 'S':'safety'\n",
    "            }\n",
    "\n",
    "for pos, pos_name in tqdm(positions.items()):\n",
    "    if type(pos_name) == str:\n",
    "        pos_name = [pos_name]\n",
    "    for name in pos_name:\n",
    "        d = pd.read_html(f'https://overthecap.com/contract-history/{name}')[0]\n",
    "        # drop blank and unused\n",
    "        drop_col = d.columns[d.columns.str.startswith('Unnamed:')]\n",
    "        drop_col = drop_col.append(d.columns[d.columns.str.startswith('Inflated')])    \n",
    "        d.drop(columns=drop_col, inplace=True)\n",
    "        d.drop(columns=['Team','Years'], inplace=True)\n",
    "\n",
    "        # rename \"APY as % of Cap...\" and \"Year Signed\"\n",
    "        d.rename(columns={d.columns[-1]:'Perc_Cap',\n",
    "                 'Year Signed':'Year'}, inplace=True)\n",
    "        d.Perc_Cap = d.Perc_Cap.str.replace('%','').astype(float)\n",
    "\n",
    "        # convert $ to int\n",
    "        for col in ['Value','APY','Guaranteed']:\n",
    "            d[col] = d[col].str.replace('$','').str.replace(',','').astype(int)\n",
    "\n",
    "        # drop bogus years and 0% cap, add position\n",
    "        d = d[d['Year']>0]\n",
    "        d = d[d['Perc_Cap']>0]\n",
    "        d.loc[:,'Position'] = pos\n",
    "\n",
    "        market_data = pd.concat([market_data, d], ignore_index=True)\n",
    "    sleep(0.5)\n",
    "    \n",
    "market_data.to_parquet(Path('market based position groups','data', 'OTC_contract_history.parquet'))"
   ]
  },
  {
   "cell_type": "markdown",
   "id": "390f1719-e409-4e16-8f8f-2bd2fffaa0e5",
   "metadata": {
    "jp-MarkdownHeadingCollapsed": true,
    "tags": []
   },
   "source": [
    "## Market Draft Joins\n",
    " - match draft player to veteran market deals based on name, position"
   ]
  },
  {
   "cell_type": "code",
   "execution_count": null,
   "id": "55dce9ee-e01a-4928-ad57-d0a80074e566",
   "metadata": {},
   "outputs": [],
   "source": [
    "# possible position matches\n",
    "pos_match = {\n",
    "    # market_data to acceptable draft positions\n",
    "    'CB': ['CB','DB','S'],\n",
    "    'S': ['CB','DB','S'],\n",
    "    'LB': ['DE','ILB','OLB','LB'],\n",
    "    'iDL': ['DE','DL','DT','NT'],\n",
    "    'EDGE': ['ILB','OLB','DE','DL','LB'],\n",
    "    'C': ['C','G','OL'],\n",
    "    'G': ['C','G','OL','T'],\n",
    "    'T': ['T','G','OL'],\n",
    "    'RB': ['RB','FB',],\n",
    "    'WR': ['WR','TE'],    \n",
    "    'TE': ['WR','TE','FB'],\n",
    "    'QB':['QB'],\n",
    "}"
   ]
  },
  {
   "cell_type": "code",
   "execution_count": 2,
   "id": "1f5f8720-a1f6-4c9a-89b3-cecb90aab7ba",
   "metadata": {
    "tags": []
   },
   "outputs": [],
   "source": [
    "folder = Path('data')\n",
    "\n",
    "\n",
    "# cap table, pick vs salary cap percentage\n",
    "cap = pd.read_csv(Path(folder, 'pick_cap_percentage.csv'), index_col=0)\n",
    "# salary cap vs year\n",
    "cap_history = pd.read_csv(Path(folder, 'salary_cap_history.csv'), index_col=0)\n",
    "cap_history = cap_history[cap_history.Year>=2014]\n",
    "\n",
    "# draft table\n",
    "draft = pd.read_csv(Path(folder, 'draft_2002-2023.csv'), index_col=0)\n",
    "\n",
    "# draft adjustments, 2011 and after for CB agreement --> wagescale\n",
    "draft = draft[draft.draft_year >= 2011]\n",
    "draft.drop(columns = draft.columns[13:27], inplace=True)\n",
    "draft.drop(columns=draft.columns[draft.columns.str.startswith('Misc_')], inplace=True)\n",
    "draft.rename(columns={'Approx Val_wAV':'wAV', 'Approx Val_DrAV':'dAV', 'G':'Games','Uni':'College'}, inplace=True)\n",
    "\n",
    "# clean negatives | draft.loc[[2744,3295,4251],:]\n",
    "draft.loc[draft[draft.dAV<0].index, 'dAV'] = 0\n",
    "draft.loc[draft[draft.wAV<0].index, 'wAV'] = 0\n",
    "\n",
    "# normalize value by games played\n",
    "draft.loc[:,'wAVpG'] = draft['wAV']/draft['Games']\n",
    "draft.loc[:,'dAVpG'] = draft['dAV']/draft['Games']\n",
    "# fill na with 0\n",
    "draft['wAVpG'] = draft['wAVpG'].fillna(0)\n",
    "draft['dAVpG'] = draft['dAVpG'].fillna(0)\n",
    "\n",
    "# Change \"To\" to years played\n",
    "draft.loc[:,'To'] = draft['To']-draft['draft_year']+1\n",
    "draft.rename(columns={'To':'Yrs', 'draft_year':'Drafted'}, inplace=True)\n",
    "draft.loc[draft[draft.Yrs<=0].index, 'Yrs'] = 0\n",
    "\n",
    "# Convert single Pos==OT (AJ Arcuri) to T\n",
    "draft.loc[draft[draft.Pos=='OT'].index,'Pos'] = 'T'\n",
    "\n",
    "# Add Cap Percentage\n",
    "draft.loc[:,'Cap'] = draft['Pick'].map(lambda x: cap.loc[x, 'Perc'])"
   ]
  },
  {
   "cell_type": "code",
   "execution_count": null,
   "id": "e15a6689-a2fb-41a7-86cc-b72c4c712557",
   "metadata": {},
   "outputs": [],
   "source": [
    "tester = draft.copy()\n",
    "for ind in tqdm(tester.index):\n",
    "    draft_name, draft_pos, draft_year = tester.loc[ind,'Player'], tester.loc[ind,'Pos'], tester.loc[ind,'Drafted']\n",
    "    contracts = market_data[(market_data.Player == draft_name) & (market_data.Year != draft_year)]\n",
    "    contracts = contracts[contracts.Year != draft_year]\n",
    "\n",
    "    if contracts.Position.unique().shape[0] > 1:\n",
    "        drop_pos = []\n",
    "        for pos_check in contracts.Position.unique():\n",
    "            if draft_pos not in pos_match[pos_check]:\n",
    "                drop_pos.append(pos_check)\n",
    "        contracts = contracts[~contracts.Position.isin(drop_pos)]\n",
    "        \n",
    "    if contracts.empty:\n",
    "        tester.loc[ind,'vet_contracts'] = 0\n",
    "        tester.loc[ind,'market_Pos'] = 'N/A'\n",
    "        tester.loc[ind,'next_Cap'] = 0      \n",
    "        tester.loc[ind,'max_Cap'] = 0 \n",
    "    tester.loc[ind,'market_Pos'] = ','.join(contracts.Position.unique())\n",
    "    tester.loc[ind,'vet_contracts'] = contracts.Year.unique().shape[0]\n",
    "    tester.loc[ind,'next_Cap'] = contracts[contracts.Year==contracts.Year.min()].Perc_Cap.max()\n",
    "    tester.loc[ind,'max_Cap'] = contracts.Perc_Cap.max()\n",
    "\n",
    "tester['vet_contracts'] = tester['vet_contracts'].astype(int)        "
   ]
  },
  {
   "cell_type": "code",
   "execution_count": null,
   "id": "d72e8058-2d1f-4c7f-a7f8-d13a6c53acd4",
   "metadata": {},
   "outputs": [],
   "source": [
    "tester.dropna(inplace=True, ignore_index=True)\n",
    "tester.to_parquet(Path('market based position groups', 'data', 'draft_market_join.parquet'))"
   ]
  },
  {
   "cell_type": "code",
   "execution_count": null,
   "id": "f63e30ea-f9c4-4d76-a344-33fcfb24a684",
   "metadata": {},
   "outputs": [],
   "source": [
    "# copy back if satisfied with results\n",
    "draft = tester.copy()"
   ]
  },
  {
   "cell_type": "markdown",
   "id": "8ba3e553-e271-43e6-bbd9-c9123ff56d5e",
   "metadata": {
    "jp-MarkdownHeadingCollapsed": true,
    "tags": []
   },
   "source": [
    "### Position Label Cleaning\n",
    " - choose one position from matched contracts"
   ]
  },
  {
   "cell_type": "code",
   "execution_count": null,
   "id": "913bb533-ab79-4e65-b289-7da6e6ba5862",
   "metadata": {},
   "outputs": [],
   "source": [
    "market_data = pd.read_parquet(Path('market based position groups','data', 'OTC_contract_history.parquet'))"
   ]
  },
  {
   "cell_type": "code",
   "execution_count": null,
   "id": "e58ab018-ac62-4018-afa8-a644c352edff",
   "metadata": {},
   "outputs": [],
   "source": [
    "for ind in tester[tester.market_Pos.str.find(',')>-1].index:\n",
    "    draft_name, draft_pos, draft_year = tester.loc[ind,'Player'], tester.loc[ind,'Pos'], tester.loc[ind,'Drafted']\n",
    "    contracts = market_data[(market_data.Player == draft_name) & (market_data.Year != draft_year)]\n",
    "    contracts = contracts[contracts.Year != draft_year]\n",
    "\n",
    "    if contracts.Position.unique().shape[0] > 1:\n",
    "        drop_pos = []\n",
    "        for pos_check in contracts.Position.unique():\n",
    "            if draft_pos not in pos_match[pos_check]:\n",
    "                drop_pos.append(pos_check)\n",
    "        contracts = contracts[~contracts.Position.isin(drop_pos)]    \n",
    "        \n",
    "    if contracts.Position.value_counts().values[0] > contracts.Position.value_counts().values[1]:\n",
    "        tester.loc[ind,'market_Pos'] = contracts.Position.value_counts().index[0]\n",
    "    else:\n",
    "        tester.loc[ind,'market_Pos'] = contracts.sort_values('Year', ascending=False).Position.values[0]"
   ]
  },
  {
   "cell_type": "code",
   "execution_count": null,
   "id": "dcbe64ff-0666-45bd-b9aa-bf8a1c3b1e30",
   "metadata": {},
   "outputs": [],
   "source": [
    "tester.to_parquet(Path('market based position groups', 'data', 'draft_market_join_1pos.parquet'))"
   ]
  },
  {
   "cell_type": "markdown",
   "id": "f1ad0d58-f4e9-481a-bead-35774f024332",
   "metadata": {
    "jp-MarkdownHeadingCollapsed": true,
    "tags": []
   },
   "source": [
    "## Tables and Graphs\n",
    " - robust linear model fit for veteran market\n",
    " - second contract, max contract vs performance **wAVpG**\n",
    " - second contract - rookie contract vs performance"
   ]
  },
  {
   "cell_type": "code",
   "execution_count": null,
   "id": "c0ea39c8-42f8-44e1-8d97-b91775684d82",
   "metadata": {},
   "outputs": [],
   "source": [
    "data = pd.read_parquet(Path('market based position groups', 'data', 'draft_market_join_1pos.parquet'))\n",
    "data.loc[:,'delta'] = data.next_Cap-data.Cap # second contract - rookie deal"
   ]
  },
  {
   "cell_type": "code",
   "execution_count": null,
   "id": "e09163fd-0ea0-461e-9064-7e72bd3e75b7",
   "metadata": {},
   "outputs": [],
   "source": [
    "def pos_cutoffs(pos, cap_type):\n",
    "    if cap_type == 'max':\n",
    "        if pos in ['WR','RB']:\n",
    "            cutoff_percentile = 85 \n",
    "        elif pos in ['CB','iDL','LB','EDGE','S','QB']:\n",
    "            cutoff_percentile = 80\n",
    "        elif pos in ['TE',]:\n",
    "            cutoff_percentile = 75\n",
    "        elif pos in ['T','C']:\n",
    "            cutoff_percentile = 65        \n",
    "        else: # G\n",
    "            cutoff_percentile = 70   \n",
    "    elif cap_type == 'next':\n",
    "        if pos in ['RB','S','iDL','CB']:\n",
    "            cutoff_percentile = 88 \n",
    "        elif pos =='EDGE':\n",
    "            cutoff_percentile = 85\n",
    "        elif pos == 'C':\n",
    "            cutoff_percentile = 70\n",
    "        else:\n",
    "            cutoff_percentile = 80        \n",
    "    else:\n",
    "        cutoff_percentile = None\n",
    "    return cutoff_percentile"
   ]
  },
  {
   "cell_type": "markdown",
   "id": "12369f28-77bc-414a-b1c2-8c1444143c7c",
   "metadata": {
    "tags": []
   },
   "source": [
    "### Final Table\n",
    " - fit parameters, bounds, value and overpay picks\n",
    " - once for second contract `py='next_Cap'`, one for max contract `py='max_Cap'`"
   ]
  },
  {
   "cell_type": "code",
   "execution_count": null,
   "id": "a72faaf1-a549-42f5-985b-a74d97931183",
   "metadata": {},
   "outputs": [],
   "source": [
    "fit_summary = pd.DataFrame()\n",
    "\n",
    "for pos in ['WR', 'CB', 'iDL', 'LB', 'EDGE', 'S', 'RB', 'G', 'T', 'TE', 'QB', 'C']:\n",
    "    sub = data[data.market_Pos==pos]\n",
    "    px = 'wAVpG'\n",
    "    py = 'max_Cap'# 'next_Cap'\n",
    "    \n",
    "    # gather fit data\n",
    "    cutoff_percentile = pos_cutoffs(pos, py.split('_')[0])\n",
    "    cutoff_value = np.percentile(sub[sub[py]>0][py], [cutoff_percentile])[0]\n",
    "    fit_data = sub[sub[py]>=cutoff_value].sort_values([px,py])\n",
    "    \n",
    "    # prepare for model\n",
    "    mx = sm.add_constant(fit_data[px])\n",
    "    sq_resp = np.sum(fit_data[py]**2) # normalize error\n",
    "\n",
    "    # statsmodels RLM\n",
    "    mx = sm.add_constant(fit_data[px])\n",
    "    sq_resp = np.sum(fit_data[py]**2)\n",
    "    mod = sm.RLM(fit_data[py], mx).fit()\n",
    "    pred = mod.predict(mx)\n",
    "    \n",
    "    # basic info\n",
    "    fit_summary.loc[pos,'total'] = sub.shape[0]\n",
    "    fit_summary.loc[pos,'percentile_cutoff'] = cutoff_percentile\n",
    "    fit_summary.loc[pos,'cap_cutoff'] = round(cutoff_value,2)\n",
    "    fit_summary.loc[pos,'market_total'] = fit_data.shape[0]\n",
    "    fit_summary.loc[pos,'fit_slope'] = mod.params[px]\n",
    "    fit_summary.loc[pos,'fit_intercept'] = mod.params['const']\n",
    "    fit_summary.loc[pos,'fit_wAVpG_min'] = round(fit_data[px].min(),2)\n",
    "    fit_summary.loc[pos,'fit_wAVpG_max'] = round(fit_data[px].max(),2)\n",
    "    fit_summary.loc[pos,f'fit_{py}_min'] = round(fit_data[py].min(),2)\n",
    "    fit_summary.loc[pos,f'fit_{py}_max'] = round(fit_data[py].max(),2) \n",
    "    fit_summary.loc[pos,'fit_relerror'] = round(100*np.sum(mod.resid**2)/sq_resp,2)\n",
    "    \n",
    "    # fun adds\n",
    "    waste = fit_data.loc[(fit_data[py]-pred).sort_values(ascending=False).index[0]]\n",
    "    waste = market_data[(market_data.Player==waste.Player)&(market_data.Perc_Cap==waste[py])]\n",
    "    value = fit_data.loc[(fit_data[py]-pred).sort_values(ascending=True).index[0]]\n",
    "    value = market_data[(market_data.Player==value.Player)&(market_data.Perc_Cap==value[py])]\n",
    "    fit_summary.loc[pos,'value_contract'] = f\"{value.Player.values[0]}, {value.Perc_Cap.values[0]}% ({value.Year.values[0]})\"\n",
    "    fit_summary.loc[pos,'luxury_contract'] = f\"{waste.Player.values[0]}, {waste.Perc_Cap.values[0]}% ({waste.Year.values[0]})\""
   ]
  },
  {
   "cell_type": "code",
   "execution_count": null,
   "id": "252fb680-d473-4ba8-af3f-9bb2696a618e",
   "metadata": {},
   "outputs": [],
   "source": [
    "fit_summary['total'] = fit_summary['total'].astype(int)\n",
    "fit_summary['percentile_cutoff'] = fit_summary['percentile_cutoff'].astype(int)"
   ]
  },
  {
   "cell_type": "code",
   "execution_count": null,
   "id": "cb2fcf1a-393d-4fcf-b605-f4dc490a9bf7",
   "metadata": {},
   "outputs": [],
   "source": [
    "fit_summary.to_csv(Path('market based position groups', 'tables','max-contract_market_fits.csv'))"
   ]
  },
  {
   "cell_type": "markdown",
   "id": "23e5db71-bbc6-495c-9b03-4e476da0d696",
   "metadata": {},
   "source": [
    "### Graphs"
   ]
  },
  {
   "cell_type": "markdown",
   "id": "8f9b4871-1c13-46eb-b664-35b6af28ad37",
   "metadata": {},
   "source": [
    "#### Market Fit\n",
    " - once for second contract `py='next_Cap'`, one for max contract `py='max_Cap'`"
   ]
  },
  {
   "cell_type": "code",
   "execution_count": null,
   "id": "f2dbf494-1c39-4b48-8840-5518ad5ead85",
   "metadata": {},
   "outputs": [],
   "source": [
    "for pos in ['WR', 'CB', 'iDL', 'LB', 'EDGE', 'S', 'RB', 'G', 'T', 'TE', 'QB', 'C']:\n",
    "    sub = data[data.market_Pos==pos]\n",
    "\n",
    "    px = 'wAVpG'\n",
    "    py = 'next_Cap'\n",
    "    plt.figure(figsize=(8,6), tight_layout=True, dpi=100)\n",
    "    sns.scatterplot(sub, x = px, y=py, size=py,\n",
    "                    hue=py, palette='turbo')\n",
    "\n",
    "    # curve fits, position specific percentile cutoffs\n",
    "    cutoff_percentile = pos_cutoffs(pos, py.split('_')[0])      \n",
    "    cutoff_value = np.percentile(sub[sub[py]>0][py], [cutoff_percentile])[0]\n",
    "    fit_data = sub[sub[py]>=cutoff_value].sort_values([px,py])\n",
    "    xb = plt.xlim()\n",
    "    x = np.linspace(fit_data[px].min(),fit_data[px].max(),50)\n",
    "    sq_resp = np.sum(fit_data[py]**2) # normalize error\n",
    "\n",
    "    # statsmodels NegBinom, Gamma\n",
    "    mx = sm.add_constant(fit_data[px])\n",
    "    fx3 = sm.RLM(fit_data[py], mx).fit()\n",
    "    plt.plot(x, fx3.predict(sm.add_constant(x)),'--', linewidth=2, color='darkorchid')\n",
    "    plt.text(xb[1]-.01, cutoff_value+1, f'RLM {round(100*np.sum(fx3.resid**2)/sq_resp,2)}',  \n",
    "             color='darkorchid', ha='right')\n",
    "\n",
    "    # polynomial\n",
    "    poly_fit_3 = np.polyfit(fit_data[px], fit_data[py], 3,  full=True) \n",
    "    plt.plot(x, np.poly1d(poly_fit_3[0])(x), '--', linewidth=2, color='deeppink')\n",
    "    plt.text(xb[1]-.01, cutoff_value+0.5, f'3d poly {round(100*poly_fit_3[1][0]/sq_resp,2)}',  \n",
    "             color='deeppink', ha='right')\n",
    "\n",
    "    # smoothed spline\n",
    "    smooth_factor = 5 if pos == 'QB' else 2\n",
    "    tck_s = splrep(fit_data[px], fit_data[py], s=fit_data.shape[0]*smooth_factor,)\n",
    "    # plt.plot(x, BSpline(*tck)(x), 'g-', label='BS 0')\n",
    "    plt.plot(x, BSpline(*tck_s)(x), '--', color='k')\n",
    "    plt.text(xb[1]-.01, cutoff_value+0.1, f'Splines {round(100*np.sum((BSpline(*tck_s)(fit_data[px]) - fit_data[py])**2)/sq_resp,2)}',  \n",
    "             color='k', ha='right')\n",
    "\n",
    "\n",
    "    plt.text(xb[0]+.01, cutoff_value, f'{cutoff_percentile}th percentile\\n{cutoff_value:.1f}% cap',\n",
    "             va='center', fontsize='small', color='grey')\n",
    "\n",
    "    plt.plot(xb, [cutoff_value]*2, 'k:', linewidth=0.5)\n",
    "    plt.xlim(xb)\n",
    "\n",
    "    plt.title(f'{pos}s drafted since 2011\\nwith at least one veteran contract')\n",
    "    plt.xlabel('weighted AV per Game')\n",
    "    plt.ylabel('Second Contract %Cap')\n",
    "\n",
    "    plt.savefig(Path('market based position groups', 'graphs',\n",
    "                     'Second Contract Fits', f'{pos}_market-fit-nextCap.png'), \n",
    "                bbox_inches='tight', dpi=200)\n",
    "    plt.show()"
   ]
  },
  {
   "cell_type": "markdown",
   "id": "6a10c44c-7161-4065-b4fa-4fcf9f38856d",
   "metadata": {},
   "source": [
    "#### Market Explore"
   ]
  },
  {
   "cell_type": "code",
   "execution_count": null,
   "id": "400f5361-2c83-4640-bc49-09cf91869ae0",
   "metadata": {},
   "outputs": [],
   "source": [
    "for pos in ['WR', 'CB', 'iDL', 'LB', 'EDGE', 'S', 'RB', 'G', 'T', 'TE', 'QB', 'C']:\n",
    "    sub = data[data.market_Pos==pos]\n",
    "    \n",
    "    px = 'wAVpG'\n",
    "    py = 'max_Cap' # next_Cap, delta\n",
    "    plt.figure(figsize=(8,6), dpi=100)\n",
    "    sns.scatterplot(sub, x = px, y=py, size=py, hue=py, \n",
    "                    palette='turbo')\n",
    "    plt.xlabel('weighted AV per Game')\n",
    "    plt.title(f'{pos}s drafted since 2011\\nwith at least one veteran contract')\n",
    "    xb = plt.xlim()\n",
    "\n",
    "    labels = []\n",
    "    for label_col in [px,py,'max_Cap']:\n",
    "        for ind in sub.sort_values(label_col, ascending=False).head().index:\n",
    "            labels.append(ind)\n",
    "\n",
    "    cutoff_percentile = 85 if sub.shape[0] > 120 else 75\n",
    "    cutoff_value = np.percentile(sub[sub[py]>0][py], [cutoff_percentile])[0]\n",
    "    labels.extend(sub[sub.delta<=cutoff_value].sort_values('wAVpG', ascending=False).index[:3])\n",
    "    labels.extend(sub[sub.delta>=cutoff_value].sort_values('wAVpG', ascending=True).index[:3])\n",
    "\n",
    "    labels = set(labels)\n",
    "    for ind in labels:\n",
    "        plt.text(sub.loc[ind,px], sub.loc[ind,py], sub.loc[ind,'Player'], \n",
    "                 fontsize='6', fontweight='bold', ha='center') \n",
    "\n",
    "    # plt.ylabel('Second Contract - Rookie Deal')\n",
    "    # plt.ylabel('Second Contract %Cap')\n",
    "    plt.ylabel('highest vet contract\\n% cap')\n",
    "    \n",
    "    plt.legend(title='% Cap')\n",
    "    plt.xlim(xb)\n",
    "    plt.show()\n",
    "    plt.savefig(Path('market based position groups', 'graphs',\n",
    "                     'Market Explore', f'{pos}_max-cap.png'), \n",
    "                bbox_inches='tight')"
   ]
  }
 ],
 "metadata": {
  "kernelspec": {
   "display_name": "Python 3 (ipykernel)",
   "language": "python",
   "name": "python3"
  },
  "language_info": {
   "codemirror_mode": {
    "name": "ipython",
    "version": 3
   },
   "file_extension": ".py",
   "mimetype": "text/x-python",
   "name": "python",
   "nbconvert_exporter": "python",
   "pygments_lexer": "ipython3",
   "version": "3.10.13"
  }
 },
 "nbformat": 4,
 "nbformat_minor": 5
}
