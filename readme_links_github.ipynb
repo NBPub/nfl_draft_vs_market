{
 "cells": [
  {
   "cell_type": "code",
   "execution_count": 112,
   "id": "f0187d4a-933e-4dce-aab2-3a00043098c6",
   "metadata": {
    "tags": []
   },
   "outputs": [
    {
     "data": {
      "text/plain": [
       "'NFL Draft 2023'"
      ]
     },
     "execution_count": 112,
     "metadata": {},
     "output_type": "execute_result"
    }
   ],
   "source": [
    "from pathlib import Path, PurePath\n",
    "repo_path = Path().resolve()\n",
    "repo_name = repo.stem\n",
    "repo_name"
   ]
  },
  {
   "cell_type": "code",
   "execution_count": 113,
   "id": "12eeeaa9-0605-4720-8c5a-2757575cc40d",
   "metadata": {
    "tags": []
   },
   "outputs": [
    {
     "name": "stdout",
     "output_type": "stream",
     "text": [
      "\tREADME headings\n",
      "[TITLE](/#Contents)\n",
      "[TITLE](/#Acknowledgements)\n",
      "[TITLE](/#Data Sources)\n",
      "[TITLE](/#Previous Work)\n",
      "[TITLE](/#Draft Surplus Analysis)\n",
      "[TITLE](/#Position Comparisons)\n",
      "[TITLE](/#Notebook Descriptions)\n",
      "[TITLE](/#Import)\n",
      "[TITLE](/#Analysis)\n",
      "[TITLE](/#Market Data Only)\n"
     ]
    }
   ],
   "source": [
    "# README headers\n",
    "readme = r'C:\\Users\\Public\\Documents\\Codes\\NFL Draft 2023\\README.md'\n",
    "readme = Path(readme)\n",
    "with open(readme,'r') as text_file:\n",
    "    lines = text_file.readlines()\n",
    "\n",
    "print('\\tREADME headings')\n",
    "for line in lines:\n",
    "    if line.find('# ')>0:\n",
    "        ind = line.find('# ')+2\n",
    "        print(f'[TITLE](/#{line[ind:].rstrip()})')\n",
    "del lines"
   ]
  },
  {
   "cell_type": "code",
   "execution_count": 114,
   "id": "305e5c57-05ca-4c99-a2bc-061f398908fc",
   "metadata": {
    "tags": []
   },
   "outputs": [
    {
     "name": "stdout",
     "output_type": "stream",
     "text": [
      "\t Notebooks\n",
      "/Data Analysis.ipynb\n",
      "/Data Import.ipynb\n",
      "/other_Market Analysis.ipynb\n",
      "/readme_links_github.ipynb\n"
     ]
    }
   ],
   "source": [
    "# notebook links\n",
    "print('\\t Notebooks')\n",
    "for p in repo.iterdir():\n",
    "    if p.suffix == '.ipynb':\n",
    "        print(f'/{p.stem}{p.suffix}')"
   ]
  },
  {
   "cell_type": "code",
   "execution_count": 115,
   "id": "5709243f-dcfd-4477-a695-fdff9db29074",
   "metadata": {
    "tags": []
   },
   "outputs": [
    {
     "name": "stdout",
     "output_type": "stream",
     "text": [
      "\t data folder\n",
      "/data/draft_2011-2023.csv\n",
      "/data/pick_cap_percentage.csv\n",
      "/data/salary_cap_history.csv\n",
      "/data/vet_contracts.csv\n"
     ]
    }
   ],
   "source": [
    "# processed data\n",
    "f = 'data'\n",
    "print(f'\\t {f} folder')\n",
    "for p in Path(repo,f).iterdir():\n",
    "    if p.suffix == '.csv':\n",
    "        print(f'/{f}/{p.stem}{p.suffix}')"
   ]
  },
  {
   "cell_type": "code",
   "execution_count": 116,
   "id": "be797e26-7b3e-4b32-bd39-d13ce021d4b5",
   "metadata": {
    "scrolled": true,
    "tags": []
   },
   "outputs": [
    {
     "name": "stdout",
     "output_type": "stream",
     "text": [
      "\n",
      "\n",
      "\t data folder\n",
      "\n",
      "![TITLE](/data/draft cap table.png)\n",
      "\n",
      "\n",
      "\t comparison graphs folder\n",
      "\n",
      "\n",
      "\t\t draft fit comparisons subfolder\n",
      "\n",
      "![TITLE](/draft%20fit%20comparisons/comparison%20graphs/draft-fit-compare-box_DB,WR.png)\n",
      "![TITLE](/draft%20fit%20comparisons/comparison%20graphs/draft-fit-compare-box_OT,iOL.png)\n",
      "![TITLE](/draft%20fit%20comparisons/comparison%20graphs/draft-fit-compare-box_QB,TE,ST.png)\n",
      "![TITLE](/draft%20fit%20comparisons/comparison%20graphs/draft-fit-compare-box_RB,TE.png)\n",
      "![TITLE](/draft%20fit%20comparisons/comparison%20graphs/draft-fit-compare_DB,WR-box.png)\n",
      "![TITLE](/draft%20fit%20comparisons/comparison%20graphs/draft-fit-compare_DB,WR.png)\n",
      "![TITLE](/draft%20fit%20comparisons/comparison%20graphs/draft-fit-compare_OT,iOL-box.png)\n",
      "![TITLE](/draft%20fit%20comparisons/comparison%20graphs/draft-fit-compare_OT,iOL.png)\n",
      "![TITLE](/draft%20fit%20comparisons/comparison%20graphs/draft-fit-compare_QB,TE,ST-box.png)\n",
      "![TITLE](/draft%20fit%20comparisons/comparison%20graphs/draft-fit-compare_QB,TE,ST.png)\n",
      "![TITLE](/draft%20fit%20comparisons/comparison%20graphs/draft-fit-compare_RB,TE-box.png)\n",
      "![TITLE](/draft%20fit%20comparisons/comparison%20graphs/draft-fit-compare_RB,TE.png)\n",
      "\n",
      "\t\t market premium comparisons subfolder\n",
      "\n",
      "![TITLE](/market%20premium%20comparisons/comparison%20graphs/market-premium-compare_OT,iOL.png)\n",
      "![TITLE](/market%20premium%20comparisons/comparison%20graphs/market-premium-compare_OT,QB.png)\n",
      "![TITLE](/market%20premium%20comparisons/comparison%20graphs/market-premium-compare_ST,QB.png)\n",
      "![TITLE](/market%20premium%20comparisons/comparison%20graphs/market-premium-compare_TE,RB.png)\n",
      "![TITLE](/market%20premium%20comparisons/comparison%20graphs/market-premium-compare_WR,DB.png)\n",
      "\n",
      "\t\t position group checks subfolder\n",
      "\n",
      "![TITLE](/position%20group%20checks/comparison%20graphs/market_compare-OTC_CB-S.png)\n",
      "![TITLE](/position%20group%20checks/comparison%20graphs/market_compare-OTC_EDGE-CB.png)\n",
      "![TITLE](/position%20group%20checks/comparison%20graphs/market_compare-OTC_EDGE-IDL-LB.png)\n",
      "![TITLE](/position%20group%20checks/comparison%20graphs/market_compare-OTC_EDGE-IDL-LB_varied_y.png)\n",
      "![TITLE](/position%20group%20checks/comparison%20graphs/market_compare-OTC_G-T-C.png)\n",
      "![TITLE](/position%20group%20checks/comparison%20graphs/market_compare-OTC_QB-ST.png)\n",
      "![TITLE](/position%20group%20checks/comparison%20graphs/market_compare-OTC_WR-CB.png)\n",
      "![TITLE](/position%20group%20checks/comparison%20graphs/market_compare-OTC_WR-TE-RB.png)\n",
      "![TITLE](/comparison%20graphs/position-compare_DB,WR,QB,ST.png)\n",
      "![TITLE](/comparison%20graphs/position-compare_DB,WR,TE,RB,OT,iOL.png)\n",
      "![TITLE](/comparison%20graphs/position-compare_DB,WR,TE,RB.png)\n",
      "![TITLE](/comparison%20graphs/position-compare_DB,WR,TE.png)\n",
      "![TITLE](/comparison%20graphs/position-compare_OT,iOL.png)\n",
      "![TITLE](/comparison%20graphs/position-compare_RB,WR,OT,iOL,TE.png)\n",
      "\n",
      "\n",
      "\t position graphs folder\n",
      "\n",
      "\n",
      "\t\t draft fits subfolder\n",
      "\n",
      "![TITLE](/draft%20fits/position%20graphs/DB_draft-fit.png)\n",
      "![TITLE](/draft%20fits/position%20graphs/iOL_draft-fit.png)\n",
      "![TITLE](/draft%20fits/position%20graphs/OT_draft-fit.png)\n",
      "![TITLE](/draft%20fits/position%20graphs/QB_draft-fit.png)\n",
      "![TITLE](/draft%20fits/position%20graphs/RB_draft-fit.png)\n",
      "![TITLE](/draft%20fits/position%20graphs/ST_draft-fit.png)\n",
      "![TITLE](/draft%20fits/position%20graphs/TE_draft-fit.png)\n",
      "![TITLE](/draft%20fits/position%20graphs/WR_draft-fit.png)\n",
      "\n",
      "\t\t draft surplus subfolder\n",
      "\n",
      "![TITLE](/draft%20surplus/position%20graphs/DB_draft-surplus.png)\n",
      "![TITLE](/draft%20surplus/position%20graphs/iOL_draft-surplus.png)\n",
      "![TITLE](/draft%20surplus/position%20graphs/OT_draft-surplus.png)\n",
      "![TITLE](/draft%20surplus/position%20graphs/QB_draft-surplus.png)\n",
      "![TITLE](/draft%20surplus/position%20graphs/RB_draft-surplus.png)\n",
      "![TITLE](/draft%20surplus/position%20graphs/ST_draft-surplus.png)\n",
      "![TITLE](/draft%20surplus/position%20graphs/TE_draft-surplus.png)\n",
      "![TITLE](/draft%20surplus/position%20graphs/WR_draft-surplus.png)\n",
      "\n",
      "\t\t market fits subfolder\n",
      "\n",
      "![TITLE](/market%20fits/position%20graphs/DB_market-fit.png)\n",
      "![TITLE](/market%20fits/position%20graphs/iOL_market-fit.png)\n",
      "![TITLE](/market%20fits/position%20graphs/OT_market-fit.png)\n",
      "![TITLE](/market%20fits/position%20graphs/QB_market-fit.png)\n",
      "![TITLE](/market%20fits/position%20graphs/RB_market-fit.png)\n",
      "![TITLE](/market%20fits/position%20graphs/ST_market-fit.png)\n",
      "![TITLE](/market%20fits/position%20graphs/TE_market-fit.png)\n",
      "![TITLE](/market%20fits/position%20graphs/WR_market-fit.png)\n",
      "\n",
      "\t\t market premium subfolder\n",
      "\n",
      "![TITLE](/market%20premium/position%20graphs/DB_market-premium.png)\n",
      "![TITLE](/market%20premium/position%20graphs/iOL_market-premium.png)\n",
      "![TITLE](/market%20premium/position%20graphs/OT_market-premium.png)\n",
      "![TITLE](/market%20premium/position%20graphs/QB_market-premium.png)\n",
      "![TITLE](/market%20premium/position%20graphs/RB_market-premium.png)\n",
      "![TITLE](/market%20premium/position%20graphs/ST_market-premium.png)\n",
      "![TITLE](/market%20premium/position%20graphs/TE_market-premium.png)\n",
      "![TITLE](/market%20premium/position%20graphs/WR_market-premium.png)\n"
     ]
    }
   ],
   "source": [
    "# graph links\n",
    "for f in ['data', 'comparison graphs', 'position graphs']:\n",
    "    print(f'\\n\\n\\t {f} folder\\n')\n",
    "    for p in Path(repo, f).iterdir():\n",
    "        if p.suffix == '.png':\n",
    "            print(f'![TITLE](/{f.replace(\" \",\"%20\")}/{p.stem}{p.suffix})')\n",
    "        elif p.is_dir():\n",
    "            print(f'\\n\\t\\t {p.stem} subfolder\\n')\n",
    "            for subp in p.iterdir():\n",
    "                if subp.suffix == '.png':\n",
    "                    print(f'![TITLE](/{p.stem.replace(\" \",\"%20\")}/{f.replace(\" \",\"%20\")}/{subp.stem}{subp.suffix})')            "
   ]
  }
 ],
 "metadata": {
  "kernelspec": {
   "display_name": "Python 3 (ipykernel)",
   "language": "python",
   "name": "python3"
  },
  "language_info": {
   "codemirror_mode": {
    "name": "ipython",
    "version": 3
   },
   "file_extension": ".py",
   "mimetype": "text/x-python",
   "name": "python",
   "nbconvert_exporter": "python",
   "pygments_lexer": "ipython3",
   "version": "3.10.13"
  }
 },
 "nbformat": 4,
 "nbformat_minor": 5
}
