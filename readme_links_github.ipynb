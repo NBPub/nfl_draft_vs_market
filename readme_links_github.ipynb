{
 "cells": [
  {
   "cell_type": "code",
   "execution_count": 2,
   "id": "f0187d4a-933e-4dce-aab2-3a00043098c6",
   "metadata": {
    "tags": []
   },
   "outputs": [
    {
     "data": {
      "text/plain": [
       "'NFL Draft 2023'"
      ]
     },
     "execution_count": 2,
     "metadata": {},
     "output_type": "execute_result"
    }
   ],
   "source": [
    "from pathlib import Path, PurePath\n",
    "repo = Path().resolve()\n",
    "repo_name = repo.stem\n",
    "repo_name"
   ]
  },
  {
   "cell_type": "code",
   "execution_count": 121,
   "id": "12eeeaa9-0605-4720-8c5a-2757575cc40d",
   "metadata": {
    "tags": []
   },
   "outputs": [
    {
     "name": "stdout",
     "output_type": "stream",
     "text": [
      "\tREADME headings\n",
      "[TITLE](/#Contents)\n",
      "[TITLE](/#Acknowledgements)\n",
      "[TITLE](/#Data-Sources)\n",
      "[TITLE](/#Previous-Work)\n",
      "[TITLE](/#Draft-Surplus-Analysis)\n",
      "[TITLE](/#Position-Comparisons)\n",
      "[TITLE](/#Notebook-Descriptions)\n",
      "[TITLE](/#Import)\n",
      "[TITLE](/#Analysis)\n",
      "[TITLE](/#Market-Data-Only)\n"
     ]
    }
   ],
   "source": [
    "# README headers\n",
    "readme = Path(repo, 'README.md')\n",
    "with open(readme,'r') as text_file:\n",
    "    lines = text_file.readlines()\n",
    "\n",
    "print('\\tREADME headings')\n",
    "for line in lines:\n",
    "    if line.find('# ')>0:\n",
    "        ind = line.find('# ')+2\n",
    "        print(f'[TITLE](/#{line[ind:].rstrip().replace(\" \",\"-\")})')\n",
    "del lines"
   ]
  },
  {
   "cell_type": "code",
   "execution_count": 129,
   "id": "0b6337f0-fde1-45e8-b967-0bebd40809a0",
   "metadata": {
    "tags": []
   },
   "outputs": [
    {
     "name": "stdout",
     "output_type": "stream",
     "text": [
      "\t\t Subfolders\n",
      "\n",
      "/comparison%20graphs\n",
      "\t/comparison%20graphs/draft%20fit%20comparisons\n",
      "\t/comparison%20graphs/market%20premium%20comparisons\n",
      "\t/comparison%20graphs/position%20group%20checks\n",
      "/data\n",
      "/position%20graphs\n",
      "\t/position%20graphs/draft%20fits\n",
      "\t/position%20graphs/draft%20surplus\n",
      "\t/position%20graphs/market%20fits\n",
      "\t/position%20graphs/market%20premium\n",
      "/position%20tables\n",
      "\t/position%20tables/draft%20tables\n",
      "\t/position%20tables/market%20tables\n"
     ]
    }
   ],
   "source": [
    "print('\\t\\t Subfolders\\n')\n",
    "for p in repo.iterdir():\n",
    "    if p.stem == '.ipynb_checkpoints':\n",
    "        continue\n",
    "    if p.is_dir():\n",
    "        print(f'/{p.stem.replace(\" \",\"%20\")}')\n",
    "        for subp in p.iterdir():\n",
    "            if subp.is_dir():\n",
    "                print(f'\\t/{p.stem.replace(\" \",\"%20\")}/{subp.stem.replace(\" \",\"%20\")}')"
   ]
  },
  {
   "cell_type": "code",
   "execution_count": 130,
   "id": "305e5c57-05ca-4c99-a2bc-061f398908fc",
   "metadata": {
    "tags": []
   },
   "outputs": [
    {
     "name": "stdout",
     "output_type": "stream",
     "text": [
      "\t Notebooks\n",
      "/Data%20Analysis.ipynb\n",
      "/Data%20Import.ipynb\n",
      "/other_Market%20Analysis.ipynb\n",
      "/readme_links_github.ipynb\n"
     ]
    }
   ],
   "source": [
    "# notebook links\n",
    "print('\\t Notebooks')\n",
    "for p in repo.iterdir():\n",
    "    if p.suffix == '.ipynb':\n",
    "        print(f'/{p.stem.replace(\" \",\"%20\")}{p.suffix}')"
   ]
  },
  {
   "cell_type": "code",
   "execution_count": 115,
   "id": "5709243f-dcfd-4477-a695-fdff9db29074",
   "metadata": {
    "tags": []
   },
   "outputs": [
    {
     "name": "stdout",
     "output_type": "stream",
     "text": [
      "\t data folder\n",
      "/data/draft_2011-2023.csv\n",
      "/data/pick_cap_percentage.csv\n",
      "/data/salary_cap_history.csv\n",
      "/data/vet_contracts.csv\n"
     ]
    }
   ],
   "source": [
    "# processed data\n",
    "f = 'data'\n",
    "print(f'\\t {f} folder')\n",
    "for p in Path(repo,f).iterdir():\n",
    "    if p.suffix == '.csv':\n",
    "        print(f'/{f}/{p.stem}{p.suffix}')"
   ]
  },
  {
   "cell_type": "code",
   "execution_count": 6,
   "id": "be797e26-7b3e-4b32-bd39-d13ce021d4b5",
   "metadata": {
    "scrolled": true,
    "tags": []
   },
   "outputs": [
    {
     "name": "stdout",
     "output_type": "stream",
     "text": [
      "\n",
      "\n",
      "\t data folder\n",
      "\n",
      "![TITLE](/data/draft cap table.png)\n",
      "\n",
      "\n",
      "\t comparison graphs folder\n",
      "\n",
      "![TITLE](/comparison%20graphs/position-compare_DB,WR,QB,ST.png)\n",
      "![TITLE](/comparison%20graphs/position-compare_DB,WR,TE,RB,OT,iOL.png)\n",
      "![TITLE](/comparison%20graphs/position-compare_DB,WR,TE,RB.png)\n",
      "![TITLE](/comparison%20graphs/position-compare_DB,WR,TE.png)\n",
      "![TITLE](/comparison%20graphs/position-compare_OT,iOL.png)\n",
      "![TITLE](/comparison%20graphs/position-compare_RB,WR,OT,iOL,TE.png)\n",
      "\n",
      "\t\t draft fit comparisons subfolder\n",
      "\n",
      "\t![TITLE](/comparison%20graphs/draft%20fit%20comparisons/draft-fit-compare-box_DB,WR.png)\n",
      "\t![TITLE](/comparison%20graphs/draft%20fit%20comparisons/draft-fit-compare-box_OT,iOL.png)\n",
      "\t![TITLE](/comparison%20graphs/draft%20fit%20comparisons/draft-fit-compare-box_QB,TE,ST.png)\n",
      "\t![TITLE](/comparison%20graphs/draft%20fit%20comparisons/draft-fit-compare-box_RB,TE.png)\n",
      "\t![TITLE](/comparison%20graphs/draft%20fit%20comparisons/draft-fit-compare_DB,WR-box.png)\n",
      "\t![TITLE](/comparison%20graphs/draft%20fit%20comparisons/draft-fit-compare_DB,WR.png)\n",
      "\t![TITLE](/comparison%20graphs/draft%20fit%20comparisons/draft-fit-compare_OT,iOL-box.png)\n",
      "\t![TITLE](/comparison%20graphs/draft%20fit%20comparisons/draft-fit-compare_OT,iOL.png)\n",
      "\t![TITLE](/comparison%20graphs/draft%20fit%20comparisons/draft-fit-compare_QB,TE,ST-box.png)\n",
      "\t![TITLE](/comparison%20graphs/draft%20fit%20comparisons/draft-fit-compare_QB,TE,ST.png)\n",
      "\t![TITLE](/comparison%20graphs/draft%20fit%20comparisons/draft-fit-compare_RB,TE-box.png)\n",
      "\t![TITLE](/comparison%20graphs/draft%20fit%20comparisons/draft-fit-compare_RB,TE.png)\n",
      "\n",
      "\t\t market premium comparisons subfolder\n",
      "\n",
      "\t![TITLE](/comparison%20graphs/market%20premium%20comparisons/market-premium-compare_OT,iOL.png)\n",
      "\t![TITLE](/comparison%20graphs/market%20premium%20comparisons/market-premium-compare_OT,QB.png)\n",
      "\t![TITLE](/comparison%20graphs/market%20premium%20comparisons/market-premium-compare_ST,QB.png)\n",
      "\t![TITLE](/comparison%20graphs/market%20premium%20comparisons/market-premium-compare_TE,RB.png)\n",
      "\t![TITLE](/comparison%20graphs/market%20premium%20comparisons/market-premium-compare_WR,DB.png)\n",
      "\n",
      "\t\t position group checks subfolder\n",
      "\n",
      "\t![TITLE](/comparison%20graphs/position%20group%20checks/market_compare-OTC_CB-S.png)\n",
      "\t![TITLE](/comparison%20graphs/position%20group%20checks/market_compare-OTC_EDGE-CB.png)\n",
      "\t![TITLE](/comparison%20graphs/position%20group%20checks/market_compare-OTC_EDGE-IDL-LB.png)\n",
      "\t![TITLE](/comparison%20graphs/position%20group%20checks/market_compare-OTC_EDGE-IDL-LB_varied_y.png)\n",
      "\t![TITLE](/comparison%20graphs/position%20group%20checks/market_compare-OTC_G-T-C.png)\n",
      "\t![TITLE](/comparison%20graphs/position%20group%20checks/market_compare-OTC_QB-ST.png)\n",
      "\t![TITLE](/comparison%20graphs/position%20group%20checks/market_compare-OTC_WR-CB.png)\n",
      "\t![TITLE](/comparison%20graphs/position%20group%20checks/market_compare-OTC_WR-TE-RB.png)\n",
      "\n",
      "\n",
      "\t position graphs folder\n",
      "\n",
      "\n",
      "\t\t draft fits subfolder\n",
      "\n",
      "\t![TITLE](/position%20graphs/draft%20fits/DB_draft-fit.png)\n",
      "\t![TITLE](/position%20graphs/draft%20fits/iOL_draft-fit.png)\n",
      "\t![TITLE](/position%20graphs/draft%20fits/OT_draft-fit.png)\n",
      "\t![TITLE](/position%20graphs/draft%20fits/QB_draft-fit.png)\n",
      "\t![TITLE](/position%20graphs/draft%20fits/RB_draft-fit.png)\n",
      "\t![TITLE](/position%20graphs/draft%20fits/ST_draft-fit.png)\n",
      "\t![TITLE](/position%20graphs/draft%20fits/TE_draft-fit.png)\n",
      "\t![TITLE](/position%20graphs/draft%20fits/WR_draft-fit.png)\n",
      "\n",
      "\t\t draft surplus subfolder\n",
      "\n",
      "\t![TITLE](/position%20graphs/draft%20surplus/DB_draft-surplus.png)\n",
      "\t![TITLE](/position%20graphs/draft%20surplus/iOL_draft-surplus.png)\n",
      "\t![TITLE](/position%20graphs/draft%20surplus/OT_draft-surplus.png)\n",
      "\t![TITLE](/position%20graphs/draft%20surplus/QB_draft-surplus.png)\n",
      "\t![TITLE](/position%20graphs/draft%20surplus/RB_draft-surplus.png)\n",
      "\t![TITLE](/position%20graphs/draft%20surplus/ST_draft-surplus.png)\n",
      "\t![TITLE](/position%20graphs/draft%20surplus/TE_draft-surplus.png)\n",
      "\t![TITLE](/position%20graphs/draft%20surplus/WR_draft-surplus.png)\n",
      "\n",
      "\t\t market fits subfolder\n",
      "\n",
      "\t![TITLE](/position%20graphs/market%20fits/DB_market-fit.png)\n",
      "\t![TITLE](/position%20graphs/market%20fits/iOL_market-fit.png)\n",
      "\t![TITLE](/position%20graphs/market%20fits/OT_market-fit.png)\n",
      "\t![TITLE](/position%20graphs/market%20fits/QB_market-fit.png)\n",
      "\t![TITLE](/position%20graphs/market%20fits/RB_market-fit.png)\n",
      "\t![TITLE](/position%20graphs/market%20fits/ST_market-fit.png)\n",
      "\t![TITLE](/position%20graphs/market%20fits/TE_market-fit.png)\n",
      "\t![TITLE](/position%20graphs/market%20fits/WR_market-fit.png)\n",
      "\n",
      "\t\t market premium subfolder\n",
      "\n",
      "\t![TITLE](/position%20graphs/market%20premium/DB_market-premium.png)\n",
      "\t![TITLE](/position%20graphs/market%20premium/iOL_market-premium.png)\n",
      "\t![TITLE](/position%20graphs/market%20premium/OT_market-premium.png)\n",
      "\t![TITLE](/position%20graphs/market%20premium/QB_market-premium.png)\n",
      "\t![TITLE](/position%20graphs/market%20premium/RB_market-premium.png)\n",
      "\t![TITLE](/position%20graphs/market%20premium/ST_market-premium.png)\n",
      "\t![TITLE](/position%20graphs/market%20premium/TE_market-premium.png)\n",
      "\t![TITLE](/position%20graphs/market%20premium/WR_market-premium.png)\n"
     ]
    }
   ],
   "source": [
    "# graph links\n",
    "for f in ['data', 'comparison graphs', 'position graphs']:\n",
    "    print(f'\\n\\n\\t {f} folder\\n')\n",
    "    for p in Path(repo, f).iterdir():\n",
    "        if p.suffix == '.png':\n",
    "            print(f'![TITLE](/{f.replace(\" \",\"%20\")}/{p.stem}{p.suffix})')\n",
    "    for p in Path(repo, f).iterdir():\n",
    "        if p.is_dir():\n",
    "            print(f'\\n\\t\\t {p.stem} subfolder\\n')\n",
    "            for subp in p.iterdir():\n",
    "                if subp.suffix == '.png':\n",
    "                    print(f'\\t![TITLE](/{f.replace(\" \",\"%20\")}/{p.stem.replace(\" \",\"%20\")}/{subp.stem}{subp.suffix})')            "
   ]
  },
  {
   "cell_type": "code",
   "execution_count": 12,
   "id": "df7ed391-c694-4da7-a21e-5d4109b013d5",
   "metadata": {},
   "outputs": [
    {
     "name": "stdout",
     "output_type": "stream",
     "text": [
      "\t position tables folder\n",
      "/position tables/DB_final.csv\n",
      "/position tables/iOL_final.csv\n",
      "/position tables/OT_final.csv\n",
      "/position tables/QB_final.csv\n",
      "/position tables/RB_final.csv\n",
      "/position tables/ST_final.csv\n",
      "/position tables/TE_final.csv\n",
      "/position tables/WR_final.csv\n",
      "\n",
      "\t\t draft tables subfolder\n",
      "\t/position tables/draft tables/DB_draft.csv\n",
      "\t/position tables/draft tables/iOL_draft.csv\n",
      "\t/position tables/draft tables/OT_draft.csv\n",
      "\t/position tables/draft tables/QB_draft.csv\n",
      "\t/position tables/draft tables/RB_draft.csv\n",
      "\t/position tables/draft tables/ST_draft.csv\n",
      "\t/position tables/draft tables/TE_draft.csv\n",
      "\t/position tables/draft tables/WR_draft.csv\n",
      "\n",
      "\t\t market tables subfolder\n",
      "\t/position tables/market tables/DB_market.csv\n",
      "\t/position tables/market tables/iOL_market.csv\n",
      "\t/position tables/market tables/OT_market.csv\n",
      "\t/position tables/market tables/QB_market.csv\n",
      "\t/position tables/market tables/RB_market.csv\n",
      "\t/position tables/market tables/ST_market.csv\n",
      "\t/position tables/market tables/TE_market.csv\n",
      "\t/position tables/market tables/WR_market.csv\n"
     ]
    }
   ],
   "source": [
    "# Position Tables for folder readme\n",
    "f = 'position tables'\n",
    "print(f'\\t {f} folder')\n",
    "for p in Path(repo,f).iterdir():\n",
    "    if p.suffix == '.csv':\n",
    "        print(f'/{f}/{p.stem}{p.suffix}')\n",
    "        \n",
    "for p in Path(repo,f).iterdir():\n",
    "    if p.is_dir():\n",
    "        print(f'\\n\\t\\t {p.stem} subfolder')\n",
    "        for subp in p.iterdir():\n",
    "            if subp.suffix == '.csv':\n",
    "                print(f'\\t/{f}/{p.stem}/{subp.stem}{subp.suffix}')"
   ]
  }
 ],
 "metadata": {
  "kernelspec": {
   "display_name": "Python 3 (ipykernel)",
   "language": "python",
   "name": "python3"
  },
  "language_info": {
   "codemirror_mode": {
    "name": "ipython",
    "version": 3
   },
   "file_extension": ".py",
   "mimetype": "text/x-python",
   "name": "python",
   "nbconvert_exporter": "python",
   "pygments_lexer": "ipython3",
   "version": "3.10.13"
  }
 },
 "nbformat": 4,
 "nbformat_minor": 5
}
